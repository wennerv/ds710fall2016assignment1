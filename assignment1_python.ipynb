{
 "cells": [
  {
   "cell_type": "markdown",
   "metadata": {},
   "source": [
    "Welcome to the Jupyter notebook!\n",
    "\n",
    "This cell is a markdown cell, which means it contains text."
   ]
  },
  {
   "cell_type": "code",
   "execution_count": 1,
   "metadata": {
    "collapsed": false
   },
   "outputs": [
    {
     "name": "stdout",
     "output_type": "stream",
     "text": [
      "hello world\n"
     ]
    }
   ],
   "source": [
    "#This cell is a code cell.  Pressing shift-enter or using the \"Run Cell\" button will evaluate the code in this cell.\n",
    "#The \"Run Cell\" button looks like a little black triangle.\n",
    "#Run the code in this cell.\n",
    "\n",
    "print(\"hello world\")"
   ]
  },
  {
   "cell_type": "code",
   "execution_count": 2,
   "metadata": {
    "collapsed": false
   },
   "outputs": [
    {
     "name": "stdout",
     "output_type": "stream",
     "text": [
      "4\n"
     ]
    }
   ],
   "source": [
    "#create a variable named a, and store the value 3+1 in it\n",
    "a = 3+1\n",
    "\n",
    "#display a\n",
    "print(a)"
   ]
  },
  {
   "cell_type": "code",
   "execution_count": 3,
   "metadata": {
    "collapsed": false
   },
   "outputs": [
    {
     "name": "stdout",
     "output_type": "stream",
     "text": [
      "three plus one is 4\n"
     ]
    }
   ],
   "source": [
    "#you can combine multiple objects in the same print statement\n",
    "\n",
    "print(\"three plus one is\", a)"
   ]
  },
  {
   "cell_type": "markdown",
   "metadata": {},
   "source": [
    "Change the cell below to output your first and last names."
   ]
  },
  {
   "cell_type": "code",
   "execution_count": 5,
   "metadata": {
    "collapsed": false
   },
   "outputs": [
    {
     "name": "stdout",
     "output_type": "stream",
     "text": [
      "Tori Wenner\n"
     ]
    }
   ],
   "source": [
    "#Note that the usual Python convention is to separate words in variable names using underscores\n",
    "\n",
    "first_name = \"Tori\"\n",
    "last_name = \"Wenner\"\n",
    "print(first_name,last_name) #changed first to first_name and last to last_name"
   ]
  },
  {
   "cell_type": "code",
   "execution_count": 9,
   "metadata": {
    "collapsed": false
   },
   "outputs": [
    {
     "name": "stdout",
     "output_type": "stream",
     "text": [
      "Given Name \t Surname \n",
      " Tori \t\t Wenner\n"
     ]
    }
   ],
   "source": [
    "#We can use the tab or \"\\t\" and newline or \"\\n\" characters to format our output.\n",
    "#Adjust the output below so that your first and last name appear in the appropriate column.\n",
    "\n",
    "print(\"Given Name\",\"\\t\",\"Surname\",\"\\n\",first_name,\"\\t\\t\",last_name) #added a \\t between first_name and last_name to make the spacing look better. "
   ]
  },
  {
   "cell_type": "code",
   "execution_count": 12,
   "metadata": {
    "collapsed": false
   },
   "outputs": [
    {
     "name": "stdout",
     "output_type": "stream",
     "text": [
      "ToriWenner\n",
      "Tori \t Wenner\n"
     ]
    }
   ],
   "source": [
    "#We can also combine strings using the + operator.\n",
    "#Adjust the output below so that it includes a space between your first and last name.\n",
    "print(first_name+last_name)\n",
    "print(first_name, \"\\t\", last_name)"
   ]
  },
  {
   "cell_type": "markdown",
   "metadata": {},
   "source": [
    "You can see a list of all of the functions associated to an object by typing the object's name followed by a period, then hitting tab."
   ]
  },
  {
   "cell_type": "code",
   "execution_count": 28,
   "metadata": {
    "collapsed": false
   },
   "outputs": [
    {
     "data": {
      "text/plain": [
       "'TORI'"
      ]
     },
     "execution_count": 28,
     "metadata": {},
     "output_type": "execute_result"
    }
   ],
   "source": [
    "#Find a function that will convert your given name to uppercase.\n",
    "first_name.upper()"
   ]
  },
  {
   "cell_type": "code",
   "execution_count": null,
   "metadata": {
    "collapsed": true
   },
   "outputs": [],
   "source": []
  }
 ],
 "metadata": {
  "kernelspec": {
   "display_name": "Python [Root]",
   "language": "python",
   "name": "Python [Root]"
  },
  "language_info": {
   "codemirror_mode": {
    "name": "ipython",
    "version": 3
   },
   "file_extension": ".py",
   "mimetype": "text/x-python",
   "name": "python",
   "nbconvert_exporter": "python",
   "pygments_lexer": "ipython3",
   "version": "3.5.2"
  }
 },
 "nbformat": 4,
 "nbformat_minor": 0
}
